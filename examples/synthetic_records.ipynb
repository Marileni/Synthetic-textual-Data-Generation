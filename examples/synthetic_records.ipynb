{
  "cells": [
    {
      "cell_type": "markdown",
      "metadata": {
        "id": "DcJSOB2pjs9Q"
      },
      "source": [
        "# Generating synthetic data\n",
        "\n",
        "This notebook walks through training a probabilistic, generative RNN model<br>\n",
        "on a rental scooter location dataset, and then generating a synthetic<br>\n",
        "dataset with greater privacy guarantees.\n",
        "\n",
        "For both training and generating data, we can use the ``config.py`` module and<br>\n",
        "create a ``LocalConfig`` instance that contains all the attributes that we need<br>\n",
        "for both activities."
      ]
    },
    {
      "cell_type": "code",
      "execution_count": 2,
      "metadata": {
        "id": "0QDaCRECjs9S",
        "outputId": "11af21be-2873-45b1-b46d-7d4dfe024173",
        "colab": {
          "base_uri": "https://localhost:8080/"
        }
      },
      "outputs": [
        {
          "output_type": "stream",
          "name": "stdout",
          "text": [
            "Collecting to\n",
            "  Using cached to-0.3.tar.gz (26 kB)\n",
            "  Preparing metadata (setup.py) ... \u001b[?25l\u001b[?25hdone\n",
            "\u001b[31mERROR: Could not find a version that satisfies the requirement install (from versions: none)\u001b[0m\u001b[31m\n",
            "\u001b[0m\u001b[31mERROR: No matching distribution found for install\u001b[0m\u001b[31m\n",
            "\u001b[0mRequirement already satisfied: gretel-synthetics in /usr/local/lib/python3.11/dist-packages (0.20.0)\n",
            "Collecting gretel-synthetics\n",
            "  Using cached gretel_synthetics-0.22.19-py3-none-any.whl.metadata (7.2 kB)\n",
            "Collecting category-encoders==2.4.0 (from gretel-synthetics)\n",
            "  Using cached category_encoders-2.4.0-py2.py3-none-any.whl.metadata (7.3 kB)\n",
            "Collecting numpy<1.24,>=1.18.0 (from gretel-synthetics)\n",
            "  Using cached numpy-1.23.5-cp311-cp311-manylinux_2_17_x86_64.manylinux2014_x86_64.whl.metadata (2.3 kB)\n",
            "Collecting pandas<2,>=1.1.0 (from gretel-synthetics)\n",
            "  Using cached pandas-1.5.3-cp311-cp311-manylinux_2_17_x86_64.manylinux2014_x86_64.whl.metadata (11 kB)\n",
            "Collecting protobuf<=4.24.0,>=4 (from gretel-synthetics)\n",
            "  Using cached protobuf-4.24.0-cp37-abi3-manylinux2014_x86_64.whl.metadata (540 bytes)\n",
            "INFO: pip is looking at multiple versions of gretel-synthetics to determine which version is compatible with other requirements. This could take a while.\n",
            "Collecting gretel-synthetics\n",
            "  Using cached gretel_synthetics-0.22.17-py3-none-any.whl.metadata (12 kB)\n",
            "Requirement already satisfied: joblib==1.4.2 in /usr/local/lib/python3.11/dist-packages (from gretel-synthetics) (1.4.2)\n",
            "Collecting packaging<22 (from gretel-synthetics)\n",
            "  Using cached packaging-21.3-py3-none-any.whl.metadata (15 kB)\n",
            "Collecting gretel-synthetics\n",
            "  Using cached gretel_synthetics-0.22.16-py3-none-any.whl.metadata (13 kB)\n",
            "Requirement already satisfied: category-encoders==2.2.2 in /usr/local/lib/python3.11/dist-packages (from gretel-synthetics) (2.2.2)\n",
            "  Using cached gretel_synthetics-0.22.15-py3-none-any.whl.metadata (13 kB)\n",
            "  Using cached gretel_synthetics-0.22.14-py3-none-any.whl.metadata (13 kB)\n",
            "  Using cached gretel_synthetics-0.22.13-py3-none-any.whl.metadata (13 kB)\n",
            "  Using cached gretel_synthetics-0.22.12-py3-none-any.whl.metadata (12 kB)\n",
            "  Using cached gretel_synthetics-0.22.11-py3-none-any.whl.metadata (12 kB)\n",
            "INFO: pip is still looking at multiple versions of gretel-synthetics to determine which version is compatible with other requirements. This could take a while.\n",
            "  Using cached gretel_synthetics-0.22.10-py3-none-any.whl.metadata (12 kB)\n",
            "Collecting joblib==1.2.0 (from gretel-synthetics)\n",
            "  Using cached joblib-1.2.0-py3-none-any.whl.metadata (5.3 kB)\n",
            "Collecting gretel-synthetics\n",
            "  Using cached gretel_synthetics-0.22.9-py3-none-any.whl.metadata (12 kB)\n",
            "  Using cached gretel_synthetics-0.22.8-py3-none-any.whl.metadata (12 kB)\n",
            "  Using cached gretel_synthetics-0.22.7-py3-none-any.whl.metadata (12 kB)\n",
            "  Using cached gretel_synthetics-0.22.6-py3-none-any.whl.metadata (12 kB)\n",
            "INFO: This is taking longer than usual. You might need to provide the dependency resolver with stricter constraints to reduce runtime. See https://pip.pypa.io/warnings/backtracking for guidance. If you want to abort this run, press Ctrl + C.\n",
            "  Using cached gretel_synthetics-0.22.5-py3-none-any.whl.metadata (12 kB)\n",
            "  Using cached gretel_synthetics-0.22.4-py3-none-any.whl.metadata (12 kB)\n",
            "  Using cached gretel_synthetics-0.22.3-py3-none-any.whl.metadata (12 kB)\n",
            "  Using cached gretel_synthetics-0.22.2-py3-none-any.whl.metadata (11 kB)\n",
            "Collecting protobuf<3.20,>=3.9.2 (from gretel-synthetics)\n",
            "  Using cached protobuf-3.19.6-py2.py3-none-any.whl.metadata (828 bytes)\n",
            "Collecting gretel-synthetics\n",
            "  Using cached gretel_synthetics-0.22.1-py3-none-any.whl.metadata (11 kB)\n",
            "  Using cached gretel_synthetics-0.22.0-py3-none-any.whl.metadata (11 kB)\n",
            "  Using cached gretel_synthetics-0.21.0-py3-none-any.whl.metadata (11 kB)\n",
            "Requirement already satisfied: loky==2.9.0 in /usr/local/lib/python3.11/dist-packages (from gretel-synthetics) (2.9.0)\n",
            "Requirement already satisfied: numpy>=1.18.0 in /usr/local/lib/python3.11/dist-packages (from gretel-synthetics) (2.0.2)\n",
            "Requirement already satisfied: pandas>=1.1.0 in /usr/local/lib/python3.11/dist-packages (from gretel-synthetics) (2.2.2)\n",
            "Requirement already satisfied: sentencepiece==0.1.97 in /usr/local/lib/python3.11/dist-packages (from gretel-synthetics) (0.1.97)\n",
            "Requirement already satisfied: smart-open<6.0,>=2.1.0 in /usr/local/lib/python3.11/dist-packages (from gretel-synthetics) (5.2.1)\n",
            "Requirement already satisfied: tensorflow-estimator==2.8 in /usr/local/lib/python3.11/dist-packages (from gretel-synthetics) (2.8.0)\n",
            "Requirement already satisfied: tensorflow-privacy==0.7.3 in /usr/local/lib/python3.11/dist-packages (from gretel-synthetics) (0.7.3)\n",
            "Requirement already satisfied: tensorflow-probability==0.16.0 in /usr/local/lib/python3.11/dist-packages (from gretel-synthetics) (0.16.0)\n",
            "Requirement already satisfied: tqdm<5.0 in /usr/local/lib/python3.11/dist-packages (from gretel-synthetics) (4.67.1)\n",
            "Requirement already satisfied: scikit-learn>=0.20.0 in /usr/local/lib/python3.11/dist-packages (from category-encoders==2.2.2->gretel-synthetics) (1.6.1)\n",
            "Requirement already satisfied: scipy>=1.0.0 in /usr/local/lib/python3.11/dist-packages (from category-encoders==2.2.2->gretel-synthetics) (1.14.1)\n",
            "Requirement already satisfied: statsmodels>=0.9.0 in /usr/local/lib/python3.11/dist-packages (from category-encoders==2.2.2->gretel-synthetics) (0.14.4)\n",
            "Requirement already satisfied: patsy>=0.5.1 in /usr/local/lib/python3.11/dist-packages (from category-encoders==2.2.2->gretel-synthetics) (1.0.1)\n",
            "Requirement already satisfied: cloudpickle in /usr/local/lib/python3.11/dist-packages (from loky==2.9.0->gretel-synthetics) (3.1.1)\n",
            "Requirement already satisfied: attrs>=21.2.0 in /usr/local/lib/python3.11/dist-packages (from tensorflow-privacy==0.7.3->gretel-synthetics) (25.3.0)\n",
            "Requirement already satisfied: mpmath in /usr/local/lib/python3.11/dist-packages (from tensorflow-privacy==0.7.3->gretel-synthetics) (1.3.0)\n",
            "Requirement already satisfied: dm-tree~=0.1.1 in /usr/local/lib/python3.11/dist-packages (from tensorflow-privacy==0.7.3->gretel-synthetics) (0.1.9)\n",
            "Requirement already satisfied: tensorflow-datasets>=4.4.0 in /usr/local/lib/python3.11/dist-packages (from tensorflow-privacy==0.7.3->gretel-synthetics) (4.9.8)\n",
            "Requirement already satisfied: absl-py in /usr/local/lib/python3.11/dist-packages (from tensorflow-probability==0.16.0->gretel-synthetics) (1.4.0)\n",
            "Requirement already satisfied: six>=1.10.0 in /usr/local/lib/python3.11/dist-packages (from tensorflow-probability==0.16.0->gretel-synthetics) (1.17.0)\n",
            "Requirement already satisfied: decorator in /usr/local/lib/python3.11/dist-packages (from tensorflow-probability==0.16.0->gretel-synthetics) (4.4.2)\n",
            "Requirement already satisfied: gast>=0.3.2 in /usr/local/lib/python3.11/dist-packages (from tensorflow-probability==0.16.0->gretel-synthetics) (0.6.0)\n",
            "Requirement already satisfied: python-dateutil>=2.8.2 in /usr/local/lib/python3.11/dist-packages (from pandas>=1.1.0->gretel-synthetics) (2.8.2)\n",
            "Requirement already satisfied: pytz>=2020.1 in /usr/local/lib/python3.11/dist-packages (from pandas>=1.1.0->gretel-synthetics) (2025.1)\n",
            "Requirement already satisfied: tzdata>=2022.7 in /usr/local/lib/python3.11/dist-packages (from pandas>=1.1.0->gretel-synthetics) (2025.1)\n",
            "Requirement already satisfied: wrapt>=1.11.2 in /usr/local/lib/python3.11/dist-packages (from dm-tree~=0.1.1->tensorflow-privacy==0.7.3->gretel-synthetics) (1.17.2)\n",
            "Requirement already satisfied: threadpoolctl>=3.1.0 in /usr/local/lib/python3.11/dist-packages (from scikit-learn>=0.20.0->category-encoders==2.2.2->gretel-synthetics) (3.6.0)\n",
            "Requirement already satisfied: packaging>=21.3 in /usr/local/lib/python3.11/dist-packages (from statsmodels>=0.9.0->category-encoders==2.2.2->gretel-synthetics) (24.2)\n",
            "Requirement already satisfied: array_record>=0.5.0 in /usr/local/lib/python3.11/dist-packages (from tensorflow-datasets>=4.4.0->tensorflow-privacy==0.7.3->gretel-synthetics) (0.7.1)\n",
            "Requirement already satisfied: etils>=1.9.1 in /usr/local/lib/python3.11/dist-packages (from etils[edc,enp,epath,epy,etree]>=1.9.1; python_version >= \"3.11\"->tensorflow-datasets>=4.4.0->tensorflow-privacy==0.7.3->gretel-synthetics) (1.12.2)\n",
            "Requirement already satisfied: immutabledict in /usr/local/lib/python3.11/dist-packages (from tensorflow-datasets>=4.4.0->tensorflow-privacy==0.7.3->gretel-synthetics) (4.2.1)\n",
            "Requirement already satisfied: promise in /usr/local/lib/python3.11/dist-packages (from tensorflow-datasets>=4.4.0->tensorflow-privacy==0.7.3->gretel-synthetics) (2.3)\n",
            "Requirement already satisfied: protobuf>=3.20 in /usr/local/lib/python3.11/dist-packages (from tensorflow-datasets>=4.4.0->tensorflow-privacy==0.7.3->gretel-synthetics) (4.25.6)\n",
            "Requirement already satisfied: psutil in /usr/local/lib/python3.11/dist-packages (from tensorflow-datasets>=4.4.0->tensorflow-privacy==0.7.3->gretel-synthetics) (5.9.5)\n",
            "Requirement already satisfied: pyarrow in /usr/local/lib/python3.11/dist-packages (from tensorflow-datasets>=4.4.0->tensorflow-privacy==0.7.3->gretel-synthetics) (18.1.0)\n",
            "Requirement already satisfied: requests>=2.19.0 in /usr/local/lib/python3.11/dist-packages (from tensorflow-datasets>=4.4.0->tensorflow-privacy==0.7.3->gretel-synthetics) (2.32.3)\n",
            "Requirement already satisfied: simple_parsing in /usr/local/lib/python3.11/dist-packages (from tensorflow-datasets>=4.4.0->tensorflow-privacy==0.7.3->gretel-synthetics) (0.1.7)\n",
            "Requirement already satisfied: tensorflow-metadata in /usr/local/lib/python3.11/dist-packages (from tensorflow-datasets>=4.4.0->tensorflow-privacy==0.7.3->gretel-synthetics) (1.16.1)\n",
            "Requirement already satisfied: termcolor in /usr/local/lib/python3.11/dist-packages (from tensorflow-datasets>=4.4.0->tensorflow-privacy==0.7.3->gretel-synthetics) (2.5.0)\n",
            "Requirement already satisfied: toml in /usr/local/lib/python3.11/dist-packages (from tensorflow-datasets>=4.4.0->tensorflow-privacy==0.7.3->gretel-synthetics) (0.10.2)\n",
            "Requirement already satisfied: einops in /usr/local/lib/python3.11/dist-packages (from etils[edc,enp,epath,epy,etree]>=1.9.1; python_version >= \"3.11\"->tensorflow-datasets>=4.4.0->tensorflow-privacy==0.7.3->gretel-synthetics) (0.8.1)\n",
            "Requirement already satisfied: fsspec in /usr/local/lib/python3.11/dist-packages (from etils[edc,enp,epath,epy,etree]>=1.9.1; python_version >= \"3.11\"->tensorflow-datasets>=4.4.0->tensorflow-privacy==0.7.3->gretel-synthetics) (2024.10.0)\n",
            "Requirement already satisfied: importlib_resources in /usr/local/lib/python3.11/dist-packages (from etils[edc,enp,epath,epy,etree]>=1.9.1; python_version >= \"3.11\"->tensorflow-datasets>=4.4.0->tensorflow-privacy==0.7.3->gretel-synthetics) (6.5.2)\n",
            "Requirement already satisfied: typing_extensions in /usr/local/lib/python3.11/dist-packages (from etils[edc,enp,epath,epy,etree]>=1.9.1; python_version >= \"3.11\"->tensorflow-datasets>=4.4.0->tensorflow-privacy==0.7.3->gretel-synthetics) (4.12.2)\n",
            "Requirement already satisfied: zipp in /usr/local/lib/python3.11/dist-packages (from etils[edc,enp,epath,epy,etree]>=1.9.1; python_version >= \"3.11\"->tensorflow-datasets>=4.4.0->tensorflow-privacy==0.7.3->gretel-synthetics) (3.21.0)\n",
            "Requirement already satisfied: charset-normalizer<4,>=2 in /usr/local/lib/python3.11/dist-packages (from requests>=2.19.0->tensorflow-datasets>=4.4.0->tensorflow-privacy==0.7.3->gretel-synthetics) (3.4.1)\n",
            "Requirement already satisfied: idna<4,>=2.5 in /usr/local/lib/python3.11/dist-packages (from requests>=2.19.0->tensorflow-datasets>=4.4.0->tensorflow-privacy==0.7.3->gretel-synthetics) (3.10)\n",
            "Requirement already satisfied: urllib3<3,>=1.21.1 in /usr/local/lib/python3.11/dist-packages (from requests>=2.19.0->tensorflow-datasets>=4.4.0->tensorflow-privacy==0.7.3->gretel-synthetics) (2.3.0)\n",
            "Requirement already satisfied: certifi>=2017.4.17 in /usr/local/lib/python3.11/dist-packages (from requests>=2.19.0->tensorflow-datasets>=4.4.0->tensorflow-privacy==0.7.3->gretel-synthetics) (2025.1.31)\n",
            "Requirement already satisfied: docstring-parser<1.0,>=0.15 in /usr/local/lib/python3.11/dist-packages (from simple_parsing->tensorflow-datasets>=4.4.0->tensorflow-privacy==0.7.3->gretel-synthetics) (0.16)\n",
            "Requirement already satisfied: googleapis-common-protos<2,>=1.56.4 in /usr/local/lib/python3.11/dist-packages (from tensorflow-metadata->tensorflow-datasets>=4.4.0->tensorflow-privacy==0.7.3->gretel-synthetics) (1.69.1)\n"
          ]
        }
      ],
      "source": [
        "# Google Colab support\n",
        "# Note: Click \"Runtime->Change Runtime Type\" set Hardware Accelerator to \"GPU\"\n",
        "# Note: Use\n",
        "!pip install gretel-synthetics[tf] to install tensorflow if necessary\n",
        "#\n",
        "!pip install gretel-synthetics --upgrade"
      ]
    },
    {
      "cell_type": "code",
      "execution_count": null,
      "metadata": {
        "id": "fU9h3o2ejs9T"
      },
      "outputs": [],
      "source": [
        "from pathlib import Path\n",
        "\n",
        "from gretel_synthetics.config import LocalConfig\n",
        "\n",
        "# Create a config that we can use for both training and generating data\n",
        "# The default values for ``max_lines`` and ``epochs`` are optimized for training on a GPU.\n",
        "\n",
        "config = LocalConfig(\n",
        "    max_line_len=2048,   # the max line length for input training data\n",
        "    vocab_size=20000,    # tokenizer model vocabulary size\n",
        "    field_delimiter=\",\", # specify if the training text is structured, else ``None``\n",
        "    overwrite=True,      # overwrite previously trained model checkpoints\n",
        "    checkpoint_dir=(Path.cwd() / 'checkpoints').as_posix(),\n",
        "    input_data_path=\"https://gretel-public-website.s3-us-west-2.amazonaws.com/datasets/uber_scooter_rides_1day.csv\" # filepath or S3\n",
        ")\n"
      ]
    },
    {
      "cell_type": "code",
      "execution_count": null,
      "metadata": {
        "id": "FetZkXk2js9U"
      },
      "outputs": [],
      "source": [
        "# Train a model\n",
        "# The training function only requires our config as a single arg\n",
        "from gretel_synthetics.train import train_rnn\n",
        "\n",
        "train_rnn(config)"
      ]
    },
    {
      "cell_type": "code",
      "execution_count": null,
      "metadata": {
        "id": "FTI3y8Jpjs9U"
      },
      "outputs": [],
      "source": [
        "# Let's generate some text!\n",
        "#\n",
        "# The ``generate_text`` funtion is a generator that will return\n",
        "# a line of predicted text based on the ``gen_lines`` setting in your\n",
        "# config.\n",
        "#\n",
        "# There is no limit on the line length as with proper training, your model\n",
        "# should learn where newlines generally occur. However, if you want to\n",
        "# specify a maximum char len for each line, you may set the ``gen_chars``\n",
        "# attribute in your config object\n",
        "from gretel_synthetics.generate import generate_text\n",
        "\n",
        "# Optionally, when generating text, you can provide a callable that takes the\n",
        "# generated line as a single arg. If this function raises any errors, the\n",
        "# line will fail validation and will not be returned.  The exception message\n",
        "# will be provided as a ``explain`` field in the resulting dict that gets\n",
        "# created by ``generate_text``\n",
        "def validate_record(line):\n",
        "    rec = line.split(\", \")\n",
        "    if len(rec) == 6:\n",
        "        float(rec[5])\n",
        "        float(rec[4])\n",
        "        float(rec[3])\n",
        "        float(rec[2])\n",
        "        int(rec[0])\n",
        "    else:\n",
        "        raise Exception('record not 6 parts')\n",
        "\n",
        "for line in generate_text(config, line_validator=validate_record, num_lines=1000):\n",
        "    print(line)"
      ]
    }
  ],
  "metadata": {
    "kernelspec": {
      "display_name": "Python 3",
      "language": "python",
      "name": "python3"
    },
    "language_info": {
      "codemirror_mode": {
        "name": "ipython",
        "version": 3
      },
      "file_extension": ".py",
      "mimetype": "text/x-python",
      "name": "python",
      "nbconvert_exporter": "python",
      "pygments_lexer": "ipython3",
      "version": "3.7.5"
    },
    "colab": {
      "provenance": []
    }
  },
  "nbformat": 4,
  "nbformat_minor": 0
}